{
  "nbformat": 4,
  "nbformat_minor": 0,
  "metadata": {
    "colab": {
      "name": "install_on_colab.ipynb",
      "provenance": [],
      "include_colab_link": true
    },
    "kernelspec": {
      "name": "python3",
      "display_name": "Python 3"
    },
    "language_info": {
      "name": "python"
    }
  },
  "cells": [
    {
      "cell_type": "markdown",
      "metadata": {
        "id": "view-in-github",
        "colab_type": "text"
      },
      "source": [
        "<a href=\"https://colab.research.google.com/github/mahdimalverdi/Bigdata-hw5/blob/main/install_on_colab.ipynb\" target=\"_parent\"><img src=\"https://colab.research.google.com/assets/colab-badge.svg\" alt=\"Open In Colab\"/></a>"
      ]
    },
    {
      "cell_type": "code",
      "metadata": {
        "id": "boONb988SeYE"
      },
      "source": [
        "!apt-get install openjdk-8-jdk-headless -qq > /dev/null\n",
        "!wget -q https://www-us.apache.org/dist/spark/spark-2.4.7/spark-2.4.7-bin-hadoop2.7.tgz\n",
        "!tar xf spark-2.4.7-bin-hadoop2.7.tgz\n",
        "!pip install -q findspark"
      ],
      "execution_count": 1,
      "outputs": []
    },
    {
      "cell_type": "code",
      "metadata": {
        "id": "t2c6bcxqSfal"
      },
      "source": [
        "import os\n",
        "os.environ[\"JAVA_HOME\"] = \"/usr/lib/jvm/java-8-openjdk-amd64\"\n",
        "os.environ[\"SPARK_HOME\"] = \"/content/spark-2.4.7-bin-hadoop2.7\""
      ],
      "execution_count": 2,
      "outputs": []
    },
    {
      "cell_type": "code",
      "metadata": {
        "id": "2B_guPR2SiJS"
      },
      "source": [
        "import findspark\n",
        "findspark.init()"
      ],
      "execution_count": 3,
      "outputs": []
    },
    {
      "cell_type": "code",
      "metadata": {
        "colab": {
          "resources": {
            "http://localhost:8080/nbextensions/google.colab/files.js": {
              "data": "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",
              "ok": true,
              "headers": [
                [
                  "content-type",
                  "application/javascript"
                ]
              ],
              "status": 200,
              "status_text": ""
            }
          },
          "base_uri": "https://localhost:8080/",
          "height": 109
        },
        "id": "XxSq7nSQqX_W",
        "outputId": "06356638-6c8a-4c60-f744-56379723e0cc"
      },
      "source": [
        "from google.colab import files\n",
        "files.upload()"
      ],
      "execution_count": 13,
      "outputs": [
        {
          "output_type": "display_data",
          "data": {
            "text/html": [
              "\n",
              "     <input type=\"file\" id=\"files-b7108bb3-8729-473d-b249-16c818c5c765\" name=\"files[]\" multiple disabled\n",
              "        style=\"border:none\" />\n",
              "     <output id=\"result-b7108bb3-8729-473d-b249-16c818c5c765\">\n",
              "      Upload widget is only available when the cell has been executed in the\n",
              "      current browser session. Please rerun this cell to enable.\n",
              "      </output>\n",
              "      <script src=\"/nbextensions/google.colab/files.js\"></script> "
            ],
            "text/plain": [
              "<IPython.core.display.HTML object>"
            ]
          },
          "metadata": {
            "tags": []
          }
        },
        {
          "output_type": "stream",
          "text": [
            "Saving iris_test.csv to iris_test (1).csv\n"
          ],
          "name": "stdout"
        },
        {
          "output_type": "execute_result",
          "data": {
            "text/plain": [
              "{'iris_test.csv': b'SepalLength,SepalWidth,PetalLength,PetalWidth,Species\\r\\n5.1,3.5,1.4,0.2,setosa\\r\\n4.9,3,1.4,0.2,setosa\\r\\n4.6,3.1,1.5,0.2,setosa\\r\\n5,3.4,1.5,0.2,setosa\\r\\n4.4,2.9,1.4,0.2,setosa\\r\\n4.3,3,1.1,0.1,setosa\\r\\n5.1,3.8,1.5,0.3,setosa\\r\\n5,3,1.6,0.2,setosa\\r\\n4.8,3.1,1.6,0.2,setosa\\r\\n5.5,3.5,1.3,0.2,setosa\\r\\n4.4,3,1.3,0.2,setosa\\r\\n5.1,3.4,1.5,0.2,setosa\\r\\n4.5,2.3,1.3,0.3,setosa\\r\\n5,3.5,1.6,0.6,setosa\\r\\n5.1,3.8,1.6,0.2,setosa\\r\\n7,3.2,4.7,1.4,versicolor\\r\\n6.4,3.2,4.5,1.5,versicolor\\r\\n6.9,3.1,4.9,1.5,versicolor\\r\\n5,2,3.5,1,versicolor\\r\\n6,2.2,4,1,versicolor\\r\\n6.1,2.9,4.7,1.4,versicolor\\r\\n5.8,2.7,4.1,1,versicolor\\r\\n5.9,3.2,4.8,1.8,versicolor\\r\\n6.1,2.8,4,1.3,versicolor\\r\\n6.1,2.8,4.7,1.2,versicolor\\r\\n6.6,3,4.4,1.4,versicolor\\r\\n6.8,2.8,4.8,1.4,versicolor\\r\\n6.7,3,5,1.7,versicolor\\r\\n6,2.9,4.5,1.5,versicolor\\r\\n5.5,2.5,4,1.3,versicolor\\r\\n6.5,3,5.8,2.2,virginica\\r\\n7.6,3,6.6,2.1,virginica\\r\\n6.4,2.7,5.3,1.9,virginica\\r\\n5.7,2.5,5,2,virginica\\r\\n5.8,2.8,5.1,2.4,virginica\\r\\n6.4,3.2,5.3,2.3,virginica\\r\\n7.7,3.8,6.7,2.2,virginica\\r\\n7.2,3.2,6,1.8,virginica\\r\\n7.2,3,5.8,1.6,virginica\\r\\n6.4,2.8,5.6,2.2,virginica\\r\\n6.9,3.1,5.4,2.1,virginica\\r\\n6.7,3.1,5.6,2.4,virginica\\r\\n6.9,3.1,5.1,2.3,virginica\\r\\n6.8,3.2,5.9,2.3,virginica\\r\\n6.3,2.5,5,1.9,virginica\\r\\n'}"
            ]
          },
          "metadata": {
            "tags": []
          },
          "execution_count": 13
        }
      ]
    },
    {
      "cell_type": "code",
      "metadata": {
        "colab": {
          "base_uri": "https://localhost:8080/"
        },
        "id": "Hxe0Mix3o97S",
        "outputId": "4e9e27ea-1c22-4fdf-d99d-e6a290f185fb"
      },
      "source": [
        "import pyspark\n",
        "from pyspark.sql import SparkSession\n",
        "from pyspark.sql.types import StructType,StructField, StringType, IntegerType, DoubleType\n",
        "from pyspark.sql.types import ArrayType, DoubleType, BooleanType\n",
        "from pyspark.sql.functions import col,array_contains\n",
        "spark = SparkSession.builder.master(\"local[1]\").appName(\"hw5\").getOrCreate()\n",
        "train_dataset = spark.read.csv(\"iris_train.csv\",inferSchema=True, header =True)\n",
        "train_dataset.printSchema()\n",
        "test_dataset = spark.read.csv(\"iris_test.csv\",inferSchema=True, header =True)\n",
        "test_dataset = test_dataset.withColumnRenamed(\"SepalLength\",\"Sepal_Length\")\n",
        "test_dataset = test_dataset.withColumnRenamed(\"SepalWidth\",\"Sepal_Width\")\n",
        "test_dataset = test_dataset.withColumnRenamed(\"PetalLength\",\"Petal_Length\")\n",
        "test_dataset = test_dataset.withColumnRenamed(\"PetalWidth\",\"Petal_Width\")\n",
        "test_dataset = test_dataset.withColumnRenamed(\"Species\",\"class\")\n",
        "test_dataset.printSchema()"
      ],
      "execution_count": 62,
      "outputs": [
        {
          "output_type": "stream",
          "text": [
            "root\n",
            " |-- Sepal_Length: double (nullable = true)\n",
            " |-- Sepal_Width: double (nullable = true)\n",
            " |-- Petal_Length: double (nullable = true)\n",
            " |-- Petal_Width: double (nullable = true)\n",
            " |-- class: string (nullable = true)\n",
            "\n",
            "root\n",
            " |-- Sepal_Length: double (nullable = true)\n",
            " |-- Sepal_Width: double (nullable = true)\n",
            " |-- Petal_Length: double (nullable = true)\n",
            " |-- Petal_Width: double (nullable = true)\n",
            " |-- class: string (nullable = true)\n",
            "\n"
          ],
          "name": "stdout"
        }
      ]
    },
    {
      "cell_type": "code",
      "metadata": {
        "colab": {
          "base_uri": "https://localhost:8080/"
        },
        "id": "M1fax72ErMSK",
        "outputId": "1a72d349-13ef-453f-b7b2-471bc6d56b2a"
      },
      "source": [
        "from pyspark.ml.feature import VectorAssembler\n",
        "import pyspark.sql.functions as F\n",
        "\n",
        "assembler = VectorAssembler(inputCols=['Sepal_Length', 'Sepal_Width', 'Petal_Length', 'Petal_Width'], outputCol = 'Attributes')\n",
        "mapping= {\n",
        "      'setosa': 1.0,\n",
        "      'versicolor': 2.0,\n",
        "      'virginica': 3.0\n",
        "  }\n",
        "def mapper(value):\n",
        "  return mapping[value]\n",
        "\n",
        "udfmapper = F.udf(mapper, DoubleType())\n",
        "\n",
        "def finalize(data):\n",
        "  data = data.withColumn('number_class',udfmapper('class'))\n",
        "  output = assembler.transform(data)\n",
        "  finalized_data = output.select(\"Attributes\",\"number_class\")\n",
        "  finalized_data.show()\n",
        "  return finalized_data\n",
        "\n",
        "train_data = finalize(train_dataset)\n",
        "test_data = finalize(test_dataset)"
      ],
      "execution_count": 89,
      "outputs": [
        {
          "output_type": "stream",
          "text": [
            "+-----------------+------------+\n",
            "|       Attributes|number_class|\n",
            "+-----------------+------------+\n",
            "|[4.7,3.2,1.3,0.2]|         1.0|\n",
            "|[5.0,3.6,1.4,0.2]|         1.0|\n",
            "|[5.4,3.9,1.7,0.4]|         1.0|\n",
            "|[4.6,3.4,1.4,0.3]|         1.0|\n",
            "|[4.9,3.1,1.5,0.1]|         1.0|\n",
            "|[5.4,3.7,1.5,0.2]|         1.0|\n",
            "|[4.8,3.4,1.6,0.2]|         1.0|\n",
            "|[4.8,3.0,1.4,0.1]|         1.0|\n",
            "|[5.8,4.0,1.2,0.2]|         1.0|\n",
            "|[5.7,4.4,1.5,0.4]|         1.0|\n",
            "|[5.4,3.9,1.3,0.4]|         1.0|\n",
            "|[5.1,3.5,1.4,0.3]|         1.0|\n",
            "|[5.7,3.8,1.7,0.3]|         1.0|\n",
            "|[5.4,3.4,1.7,0.2]|         1.0|\n",
            "|[5.1,3.7,1.5,0.4]|         1.0|\n",
            "|[4.6,3.6,1.0,0.2]|         1.0|\n",
            "|[5.1,3.3,1.7,0.5]|         1.0|\n",
            "|[4.8,3.4,1.9,0.2]|         1.0|\n",
            "|[5.0,3.4,1.6,0.4]|         1.0|\n",
            "|[5.2,3.5,1.5,0.2]|         1.0|\n",
            "+-----------------+------------+\n",
            "only showing top 20 rows\n",
            "\n",
            "+-----------------+------------+\n",
            "|       Attributes|number_class|\n",
            "+-----------------+------------+\n",
            "|[5.1,3.5,1.4,0.2]|         1.0|\n",
            "|[4.9,3.0,1.4,0.2]|         1.0|\n",
            "|[4.6,3.1,1.5,0.2]|         1.0|\n",
            "|[5.0,3.4,1.5,0.2]|         1.0|\n",
            "|[4.4,2.9,1.4,0.2]|         1.0|\n",
            "|[4.3,3.0,1.1,0.1]|         1.0|\n",
            "|[5.1,3.8,1.5,0.3]|         1.0|\n",
            "|[5.0,3.0,1.6,0.2]|         1.0|\n",
            "|[4.8,3.1,1.6,0.2]|         1.0|\n",
            "|[5.5,3.5,1.3,0.2]|         1.0|\n",
            "|[4.4,3.0,1.3,0.2]|         1.0|\n",
            "|[5.1,3.4,1.5,0.2]|         1.0|\n",
            "|[4.5,2.3,1.3,0.3]|         1.0|\n",
            "|[5.0,3.5,1.6,0.6]|         1.0|\n",
            "|[5.1,3.8,1.6,0.2]|         1.0|\n",
            "|[7.0,3.2,4.7,1.4]|         2.0|\n",
            "|[6.4,3.2,4.5,1.5]|         2.0|\n",
            "|[6.9,3.1,4.9,1.5]|         2.0|\n",
            "|[5.0,2.0,3.5,1.0]|         2.0|\n",
            "|[6.0,2.2,4.0,1.0]|         2.0|\n",
            "+-----------------+------------+\n",
            "only showing top 20 rows\n",
            "\n"
          ],
          "name": "stdout"
        }
      ]
    },
    {
      "cell_type": "code",
      "metadata": {
        "id": "l6AUhF4FyQSU"
      },
      "source": [
        "from pyspark.ml.evaluation import MulticlassClassificationEvaluator\n",
        "from pyspark.ml.evaluation import RegressionEvaluator\n",
        "\n",
        "def evaluate(result):\n",
        "  evaluator = MulticlassClassificationEvaluator(\n",
        "      labelCol=\"number_class\", predictionCol=\"prediction\", metricName=\"accuracy\")\n",
        "  accuracy = evaluator.evaluate(result)\n",
        "  print(\"Test Error = %g \" % (1.0 - accuracy))"
      ],
      "execution_count": 130,
      "outputs": []
    },
    {
      "cell_type": "code",
      "metadata": {
        "colab": {
          "base_uri": "https://localhost:8080/"
        },
        "id": "-4FDFFfy4Ksh",
        "outputId": "db5f98bb-d3b2-4992-ba43-7f1a2780b0ea"
      },
      "source": [
        "from pyspark.ml.regression import DecisionTreeRegressor\n",
        "regressor = DecisionTreeRegressor(featuresCol = 'Attributes', labelCol = 'number_class')\n",
        "regressor = regressor.fit(train_data)\n",
        "result = regressor.transform(test_data)\n",
        "result.show()\n",
        "evaluate(result)"
      ],
      "execution_count": 161,
      "outputs": [
        {
          "output_type": "stream",
          "text": [
            "+-----------------+------------+----------+\n",
            "|       Attributes|number_class|prediction|\n",
            "+-----------------+------------+----------+\n",
            "|[5.1,3.5,1.4,0.2]|         1.0|       1.0|\n",
            "|[4.9,3.0,1.4,0.2]|         1.0|       1.0|\n",
            "|[4.6,3.1,1.5,0.2]|         1.0|       1.0|\n",
            "|[5.0,3.4,1.5,0.2]|         1.0|       1.0|\n",
            "|[4.4,2.9,1.4,0.2]|         1.0|       1.0|\n",
            "|[4.3,3.0,1.1,0.1]|         1.0|       1.0|\n",
            "|[5.1,3.8,1.5,0.3]|         1.0|       1.0|\n",
            "|[5.0,3.0,1.6,0.2]|         1.0|       1.0|\n",
            "|[4.8,3.1,1.6,0.2]|         1.0|       1.0|\n",
            "|[5.5,3.5,1.3,0.2]|         1.0|       1.0|\n",
            "|[4.4,3.0,1.3,0.2]|         1.0|       1.0|\n",
            "|[5.1,3.4,1.5,0.2]|         1.0|       1.0|\n",
            "|[4.5,2.3,1.3,0.3]|         1.0|       1.0|\n",
            "|[5.0,3.5,1.6,0.6]|         1.0|       1.0|\n",
            "|[5.1,3.8,1.6,0.2]|         1.0|       1.0|\n",
            "|[7.0,3.2,4.7,1.4]|         2.0|       2.0|\n",
            "|[6.4,3.2,4.5,1.5]|         2.0|       2.0|\n",
            "|[6.9,3.1,4.9,1.5]|         2.0|       2.0|\n",
            "|[5.0,2.0,3.5,1.0]|         2.0|       2.0|\n",
            "|[6.0,2.2,4.0,1.0]|         2.0|       2.0|\n",
            "+-----------------+------------+----------+\n",
            "only showing top 20 rows\n",
            "\n",
            "Test Error = 0.0666667 \n"
          ],
          "name": "stdout"
        }
      ]
    },
    {
      "cell_type": "code",
      "metadata": {
        "colab": {
          "base_uri": "https://localhost:8080/"
        },
        "id": "V8RCQNkyrxCi",
        "outputId": "3d4af359-cf3a-40aa-d3bd-fecb69ecdfd2"
      },
      "source": [
        "from pyspark.ml.regression import LinearRegression\n",
        "from pyspark.sql.functions import round \n",
        "regressor = LinearRegression(featuresCol = 'Attributes', labelCol = 'number_class')\n",
        "regressor = regressor.fit(train_data)\n",
        "pred = regressor.evaluate(test_data)\n",
        "result = pred.predictions\n",
        "result = result.withColumn('prediction',round(col('prediction')))\n",
        "result.show()\n",
        "evaluate(result)"
      ],
      "execution_count": 132,
      "outputs": [
        {
          "output_type": "stream",
          "text": [
            "+-----------------+------------+----------+\n",
            "|       Attributes|number_class|prediction|\n",
            "+-----------------+------------+----------+\n",
            "|[5.1,3.5,1.4,0.2]|         1.0|       1.0|\n",
            "|[4.9,3.0,1.4,0.2]|         1.0|       1.0|\n",
            "|[4.6,3.1,1.5,0.2]|         1.0|       1.0|\n",
            "|[5.0,3.4,1.5,0.2]|         1.0|       1.0|\n",
            "|[4.4,2.9,1.4,0.2]|         1.0|       1.0|\n",
            "|[4.3,3.0,1.1,0.1]|         1.0|       1.0|\n",
            "|[5.1,3.8,1.5,0.3]|         1.0|       1.0|\n",
            "|[5.0,3.0,1.6,0.2]|         1.0|       1.0|\n",
            "|[4.8,3.1,1.6,0.2]|         1.0|       1.0|\n",
            "|[5.5,3.5,1.3,0.2]|         1.0|       1.0|\n",
            "|[4.4,3.0,1.3,0.2]|         1.0|       1.0|\n",
            "|[5.1,3.4,1.5,0.2]|         1.0|       1.0|\n",
            "|[4.5,2.3,1.3,0.3]|         1.0|       1.0|\n",
            "|[5.0,3.5,1.6,0.6]|         1.0|       1.0|\n",
            "|[5.1,3.8,1.6,0.2]|         1.0|       1.0|\n",
            "|[7.0,3.2,4.7,1.4]|         2.0|       2.0|\n",
            "|[6.4,3.2,4.5,1.5]|         2.0|       2.0|\n",
            "|[6.9,3.1,4.9,1.5]|         2.0|       2.0|\n",
            "|[5.0,2.0,3.5,1.0]|         2.0|       2.0|\n",
            "|[6.0,2.2,4.0,1.0]|         2.0|       2.0|\n",
            "+-----------------+------------+----------+\n",
            "only showing top 20 rows\n",
            "\n",
            "Test Error = 0.0444444 \n"
          ],
          "name": "stdout"
        }
      ]
    },
    {
      "cell_type": "code",
      "metadata": {
        "colab": {
          "base_uri": "https://localhost:8080/"
        },
        "id": "tcsWgVRk6W7b",
        "outputId": "a278fb6c-2b67-41c0-b209-d034c7b7b12a"
      },
      "source": [
        "from pyspark.ml.classification import NaiveBayes\n",
        "nb = NaiveBayes(featuresCol = 'Attributes', labelCol = 'number_class')\n",
        "model = nb.fit(train_data)\n",
        "result = model.transform(test_data)\n",
        "result = result.withColumn(\"prediction\", F.col(\"prediction\")+1)\n",
        "result.show()\n",
        "evaluate(result)"
      ],
      "execution_count": 133,
      "outputs": [
        {
          "output_type": "stream",
          "text": [
            "+-----------------+------------+--------------------+--------------------+----------+\n",
            "|       Attributes|number_class|       rawPrediction|         probability|prediction|\n",
            "+-----------------+------------+--------------------+--------------------+----------+\n",
            "|[5.1,3.5,1.4,0.2]|         1.0|[-11.957946688251...|[0.74996852808446...|       1.0|\n",
            "|[4.9,3.0,1.4,0.2]|         1.0|[-11.275671914190...|[0.68189370315239...|       1.0|\n",
            "|[4.6,3.1,1.5,0.2]|         1.0|[-11.362896074031...|[0.66531523853579...|       1.0|\n",
            "|[5.0,3.4,1.5,0.2]|         1.0|[-11.972470666290...|[0.71990404708011...|       1.0|\n",
            "|[4.4,2.9,1.4,0.2]|         1.0|[-10.810300977956...|[0.64663407333519...|       1.0|\n",
            "|[4.3,3.0,1.1,0.1]|         1.0|[-9.9032839209271...|[0.73209396911236...|       1.0|\n",
            "|[5.1,3.8,1.5,0.3]|         1.0|[-12.837112496781...|[0.74404024056896...|       1.0|\n",
            "|[5.0,3.0,1.6,0.2]|         1.0|[-11.734937423182...|[0.65266678729196...|       1.0|\n",
            "|[4.8,3.1,1.6,0.2]|         1.0|[-11.699784039860...|[0.65719078740506...|       1.0|\n",
            "|[5.5,3.5,1.3,0.2]|         1.0|[-12.050079567755...|[0.77767121777694...|       1.0|\n",
            "|[4.4,3.0,1.3,0.2]|         1.0|[-10.724273525694...|[0.67690525888486...|       1.0|\n",
            "|[5.1,3.4,1.5,0.2]|         1.0|[-12.043974140512...|[0.72384306749903...|       1.0|\n",
            "|[4.5,2.3,1.3,0.3]|         1.0|[-10.402526139831...|[0.55173577884493...|       1.0|\n",
            "|[5.0,3.5,1.6,0.6]|         1.0|[-13.721101631904...|[0.59679764066672...|       1.0|\n",
            "|[5.1,3.8,1.6,0.2]|         1.0|[-12.669269418389...|[0.75492049583517...|       1.0|\n",
            "|[7.0,3.2,4.7,1.4]|         2.0|[-23.731714726111...|[0.05589706214344...|       2.0|\n",
            "|[6.4,3.2,4.5,1.5]|         2.0|[-23.276655941785...|[0.05058611860197...|       2.0|\n",
            "|[6.9,3.1,4.9,1.5]|         2.0|[-24.301843817311...|[0.03928267493226...|       2.0|\n",
            "|[5.0,2.0,3.5,1.0]|         2.0|[-17.233933868468...|[0.07590692026683...|       2.0|\n",
            "|[6.0,2.2,4.0,1.0]|         2.0|[-19.134080827859...|[0.07200690817581...|       2.0|\n",
            "+-----------------+------------+--------------------+--------------------+----------+\n",
            "only showing top 20 rows\n",
            "\n",
            "Test Error = 0.0444444 \n"
          ],
          "name": "stdout"
        }
      ]
    },
    {
      "cell_type": "code",
      "metadata": {
        "colab": {
          "base_uri": "https://localhost:8080/"
        },
        "id": "hDp4GWAx-yDP",
        "outputId": "c07a6d17-31f4-4c20-f787-24d5b46bf5f8"
      },
      "source": [
        "from pyspark.ml.classification import LogisticRegression\n",
        "\n",
        "lr = LogisticRegression(featuresCol = 'Attributes', labelCol = 'number_class')\n",
        "lrModel = lr.fit(train_data)\n",
        "result = lrModel.transform(test_data)\n",
        "result.show()\n",
        "evaluate(result)\n"
      ],
      "execution_count": 162,
      "outputs": [
        {
          "output_type": "stream",
          "text": [
            "+-----------------+------------+--------------------+--------------------+----------+\n",
            "|       Attributes|number_class|       rawPrediction|         probability|prediction|\n",
            "+-----------------+------------+--------------------+--------------------+----------+\n",
            "|[5.1,3.5,1.4,0.2]|         1.0|[-54.090809199812...|[7.08626592898545...|       1.0|\n",
            "|[4.9,3.0,1.4,0.2]|         1.0|[-49.458527644804...|[4.10093110607260...|       1.0|\n",
            "|[4.6,3.1,1.5,0.2]|         1.0|[-48.844913922307...|[1.91062986208791...|       1.0|\n",
            "|[5.0,3.4,1.5,0.2]|         1.0|[-52.942459836901...|[5.11360811774894...|       1.0|\n",
            "|[4.4,2.9,1.4,0.2]|         1.0|[-46.366494864048...|[2.41449528159736...|       1.0|\n",
            "|[4.3,3.0,1.1,0.1]|         1.0|[-46.346577425706...|[2.58351706780992...|       1.0|\n",
            "|[5.1,3.8,1.5,0.3]|         1.0|[-56.471383510962...|[3.36423165461291...|       1.0|\n",
            "|[5.0,3.0,1.6,0.2]|         1.0|[-50.050452026521...|[1.19409793314021...|       1.0|\n",
            "|[4.8,3.1,1.6,0.2]|         1.0|[-49.847042353302...|[3.93116538012403...|       1.0|\n",
            "|[5.5,3.5,1.3,0.2]|         1.0|[-55.913345729366...|[7.28009018952183...|       1.0|\n",
            "|[4.4,3.0,1.3,0.2]|         1.0|[-47.044066733533...|[1.3708997169725E...|       1.0|\n",
            "|[5.1,3.4,1.5,0.2]|         1.0|[-53.413237330326...|[1.24806763309170...|       1.0|\n",
            "|[4.5,2.3,1.3,0.3]|         1.0|[-42.453391957648...|[5.46555374335445...|       1.0|\n",
            "|[5.0,3.5,1.6,0.6]|         1.0|[-54.163438299119...|[3.82033175099022...|       1.0|\n",
            "|[5.1,3.8,1.6,0.2]|         1.0|[-56.426392028998...|[6.37635388294771...|       1.0|\n",
            "|[7.0,3.2,4.7,1.4]|         2.0|[-64.086848404130...|[1.03263591269255...|       2.0|\n",
            "|[6.4,3.2,4.5,1.5]|         2.0|[-61.246601481398...|[6.95109708740510...|       2.0|\n",
            "|[6.9,3.1,4.9,1.5]|         2.0|[-63.104637411476...|[2.23690393411362...|       2.0|\n",
            "|[5.0,2.0,3.5,1.0]|         2.0|[-44.664413737860...|[2.51135454116426...|       2.0|\n",
            "|[6.0,2.2,4.0,1.0]|         2.0|[-51.151346520103...|[2.97730702533158...|       2.0|\n",
            "+-----------------+------------+--------------------+--------------------+----------+\n",
            "only showing top 20 rows\n",
            "\n",
            "Test Error = 0.0444444 \n"
          ],
          "name": "stdout"
        }
      ]
    },
    {
      "cell_type": "code",
      "metadata": {
        "id": "ezJo0Fm3phNF"
      },
      "source": [
        ""
      ],
      "execution_count": null,
      "outputs": []
    }
  ]
}