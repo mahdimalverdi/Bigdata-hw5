{
  "nbformat": 4,
  "nbformat_minor": 0,
  "metadata": {
    "colab": {
      "name": "Untitled1.ipynb",
      "provenance": [],
      "authorship_tag": "ABX9TyP9xQARN8Dyay5FGVWtwCOJ",
      "include_colab_link": true
    },
    "kernelspec": {
      "name": "python3",
      "display_name": "Python 3"
    },
    "language_info": {
      "name": "python"
    }
  },
  "cells": [
    {
      "cell_type": "markdown",
      "metadata": {
        "id": "view-in-github",
        "colab_type": "text"
      },
      "source": [
        "<a href=\"https://colab.research.google.com/github/mahdimalverdi/Bigdata-hw5/blob/main/HW6.ipynb\" target=\"_parent\"><img src=\"https://colab.research.google.com/assets/colab-badge.svg\" alt=\"Open In Colab\"/></a>"
      ]
    },
    {
      "cell_type": "code",
      "metadata": {
        "id": "7teyRIHkVDS7"
      },
      "source": [
        ""
      ],
      "execution_count": null,
      "outputs": []
    },
    {
      "cell_type": "code",
      "metadata": {
        "colab": {
          "base_uri": "https://localhost:8080/",
          "height": 295
        },
        "id": "08RTGn_xE3MP",
        "outputId": "d9a0f712-4423-4d65-dd22-7d99fc679beb"
      },
      "source": [
        "import matplotlib.pyplot as plt\n",
        " \n",
        "x  = [1, 2, 3, 4, 5, 6, 7, 8, 9]\n",
        "y1 = [1, 3, 5, 3, 1, 3, 5, 3, 1]\n",
        "y2 = [2, 4, 6, 4, 2, 4, 6, 4, 2]\n",
        "plt.plot(x, y1, label=\"line L\")\n",
        "plt.plot(x, y2, label=\"line H\")\n",
        "plt.plot()\n",
        "\n",
        "plt.xlabel(\"x axis\")\n",
        "plt.ylabel(\"y axis\")\n",
        "plt.title(\"Line Graph Example\")\n",
        "plt.legend()\n",
        "plt.show()"
      ],
      "execution_count": 13,
      "outputs": [
        {
          "output_type": "display_data",
          "data": {
            "image/png": "[encoded data removed]",
            "text/plain": [
              "<Figure size 432x288 with 1 Axes>"
            ]
          },
          "metadata": {
            "tags": [],
            "needs_background": "light"
          }
        }
      ]
    },
    {
      "cell_type": "code",
      "metadata": {
        "colab": {
          "base_uri": "https://localhost:8080/"
        },
        "id": "EPIhTDTeVJTq",
        "outputId": "16da7d84-b495-401b-fac2-15f0ee231ae7"
      },
      "source": [
        "!apt update\n",
        "!apt-get install openjdk-8-jdk-headless -qq > /dev/null\n",
        "!wget -q https://www-us.apache.org/dist/spark/spark-2.4.7/spark-2.4.7-bin-hadoop2.7.tgz\n",
        "!tar xf spark-2.4.7-bin-hadoop2.7.tgz\n",
        "!pip install -q findspark"
      ],
      "execution_count": 2,
      "outputs": [
        {
          "output_type": "stream",
          "text": [
            "\u001b[33m\r0% [Working]\u001b[0m\r            \rGet:1 https://cloud.r-project.org/bin/linux/ubuntu bionic-cran40/ InRelease [3,626 B]\n",
            "Ign:2 https://developer.download.nvidia.com/compute/cuda/repos/ubuntu1804/x86_64  InRelease\n",
            "Get:3 http://security.ubuntu.com/ubuntu bionic-security InRelease [88.7 kB]\n",
            "Get:4 http://ppa.launchpad.net/c2d4u.team/c2d4u4.0+/ubuntu bionic InRelease [15.9 kB]\n",
            "Ign:5 https://developer.download.nvidia.com/compute/machine-learning/repos/ubuntu1804/x86_64  InRelease\n",
            "Get:6 https://developer.download.nvidia.com/compute/cuda/repos/ubuntu1804/x86_64  Release [697 B]\n",
            "Hit:7 https://developer.download.nvidia.com/compute/machine-learning/repos/ubuntu1804/x86_64  Release\n",
            "Get:8 https://developer.download.nvidia.com/compute/cuda/repos/ubuntu1804/x86_64  Release.gpg [836 B]\n",
            "Hit:9 http://archive.ubuntu.com/ubuntu bionic InRelease\n",
            "Get:10 http://archive.ubuntu.com/ubuntu bionic-updates InRelease [88.7 kB]\n",
            "Hit:11 http://ppa.launchpad.net/cran/libgit2/ubuntu bionic InRelease\n",
            "Get:12 https://cloud.r-project.org/bin/linux/ubuntu bionic-cran40/ Packages [53.1 kB]\n",
            "Hit:13 http://ppa.launchpad.net/deadsnakes/ppa/ubuntu bionic InRelease\n",
            "Get:14 http://archive.ubuntu.com/ubuntu bionic-backports InRelease [74.6 kB]\n",
            "Hit:16 http://ppa.launchpad.net/graphics-drivers/ppa/ubuntu bionic InRelease\n",
            "Ign:17 https://developer.download.nvidia.com/compute/cuda/repos/ubuntu1804/x86_64  Packages\n",
            "Get:17 https://developer.download.nvidia.com/compute/cuda/repos/ubuntu1804/x86_64  Packages [742 kB]\n",
            "Get:18 http://ppa.launchpad.net/c2d4u.team/c2d4u4.0+/ubuntu bionic/main Sources [1,757 kB]\n",
            "Get:19 http://security.ubuntu.com/ubuntu bionic-security/universe amd64 Packages [1,410 kB]\n",
            "Get:20 http://security.ubuntu.com/ubuntu bionic-security/multiverse amd64 Packages [24.7 kB]\n",
            "Get:21 http://security.ubuntu.com/ubuntu bionic-security/restricted amd64 Packages [396 kB]\n",
            "Get:22 http://security.ubuntu.com/ubuntu bionic-security/main amd64 Packages [2,116 kB]\n",
            "Get:23 http://archive.ubuntu.com/ubuntu bionic-updates/multiverse amd64 Packages [31.6 kB]\n",
            "Get:24 http://archive.ubuntu.com/ubuntu bionic-updates/restricted amd64 Packages [426 kB]\n",
            "Get:25 http://ppa.launchpad.net/c2d4u.team/c2d4u4.0+/ubuntu bionic/main amd64 Packages [899 kB]\n",
            "Get:26 http://archive.ubuntu.com/ubuntu bionic-updates/main amd64 Packages [2,546 kB]\n",
            "Get:27 http://archive.ubuntu.com/ubuntu bionic-updates/universe amd64 Packages [2,181 kB]\n",
            "Fetched 12.9 MB in 4s (3,384 kB/s)\n",
            "Reading package lists... Done\n",
            "Building dependency tree       \n",
            "Reading state information... Done\n",
            "45 packages can be upgraded. Run 'apt list --upgradable' to see them.\n"
          ],
          "name": "stdout"
        }
      ]
    },
    {
      "cell_type": "code",
      "metadata": {
        "id": "5R9-20uoVVml"
      },
      "source": [
        "!wget -q https://github.com/fivethirtyeight/uber-tlc-foil-response/raw/master/uber-trip-data/uber-raw-data-apr14.csv\n",
        "!wget -q https://github.com/fivethirtyeight/uber-tlc-foil-response/raw/master/uber-trip-data/uber-raw-data-aug14.csv\n",
        "!wget -q https://github.com/fivethirtyeight/uber-tlc-foil-response/raw/master/uber-trip-data/uber-raw-data-jul14.csv\n",
        "!wget -q https://github.com/fivethirtyeight/uber-tlc-foil-response/raw/master/uber-trip-data/uber-raw-data-jun14.csv\n",
        "!wget -q https://github.com/fivethirtyeight/uber-tlc-foil-response/raw/master/uber-trip-data/uber-raw-data-may14.csv\n",
        "!wget -q https://github.com/fivethirtyeight/uber-tlc-foil-response/raw/master/uber-trip-data/uber-raw-data-sep14.csv"
      ],
      "execution_count": 17,
      "outputs": []
    },
    {
      "cell_type": "code",
      "metadata": {
        "id": "GI8M7ouBVePe"
      },
      "source": [
        "import seaborn as sns\n",
        "import matplotlib.pyplot as plt\n",
        "%matplotlib inline"
      ],
      "execution_count": 5,
      "outputs": []
    },
    {
      "cell_type": "code",
      "metadata": {
        "id": "WqsbfBO9Vfib"
      },
      "source": [
        "import os\n",
        "os.environ[\"JAVA_HOME\"] = \"/usr/lib/jvm/java-8-openjdk-amd64\"\n",
        "os.environ[\"SPARK_HOME\"] = \"/content/spark-2.4.7-bin-hadoop2.7\""
      ],
      "execution_count": 6,
      "outputs": []
    },
    {
      "cell_type": "code",
      "metadata": {
        "id": "sYiZvHJkVg4E"
      },
      "source": [
        "import findspark\n",
        "findspark.init()"
      ],
      "execution_count": 8,
      "outputs": []
    },
    {
      "cell_type": "code",
      "metadata": {
        "id": "Dfmvkk-hViG7"
      },
      "source": [
        "import pyspark\n",
        "from pyspark.sql import SparkSession\n",
        "from pyspark.sql.types import StructType,StructField, StringType, IntegerType, DoubleType\n",
        "from pyspark.sql.types import ArrayType, DoubleType, BooleanType\n",
        "from pyspark.sql.functions import col,array_contains\n",
        "spark = SparkSession.builder.master(\"local[1]\").appName(\"hw6\").getOrCreate()"
      ],
      "execution_count": 9,
      "outputs": []
    },
    {
      "cell_type": "code",
      "metadata": {
        "id": "zGkH_E3GVj2e"
      },
      "source": [
        "from pyspark.sql import SparkSession, DataFrame, functions as F\n",
        "from pyspark.ml.feature import Imputer, StringIndexer, VectorIndexer, VectorAssembler, OneHotEncoderEstimator, PCA, Bucketizer\n",
        "from pyspark.ml.classification import RandomForestClassifier\n",
        "from pyspark.ml import Pipeline\n",
        "\n",
        "import pandas as pd\n",
        "import pandas_profiling\n",
        "import os"
      ],
      "execution_count": 10,
      "outputs": []
    },
    {
      "cell_type": "code",
      "metadata": {
        "id": "pm1go6YMUyGm"
      },
      "source": [
        "import os\n",
        "import pandas as pd\n",
        "import numpy as np\n",
        "\n",
        "from pyspark import SparkConf, SparkContext\n",
        "from pyspark.sql import SparkSession, SQLContext\n",
        "\n",
        "from pyspark.sql.types import *\n",
        "from pyspark.sql.functions import udf, col\n",
        "import pyspark.sql.functions as F\n",
        "\n",
        "from pyspark.ml.feature import VectorAssembler\n",
        "\n",
        "from pyspark.ml.clustering import KMeans, BisectingKMeans, GaussianMixture"
      ],
      "execution_count": 11,
      "outputs": []
    },
    {
      "cell_type": "code",
      "metadata": {
        "id": "O_aY2RzcVsLH"
      },
      "source": [
        "# setting random seed for notebook reproducability\n",
        "rnd_seed=42\n",
        "np.random.seed=rnd_seed\n",
        "np.random.set_state=rnd_seed"
      ],
      "execution_count": 12,
      "outputs": []
    },
    {
      "cell_type": "code",
      "metadata": {
        "colab": {
          "base_uri": "https://localhost:8080/"
        },
        "id": "ASr6eLo7VxR9",
        "outputId": "e96d09d0-c1dc-47e0-b583-0845790568af"
      },
      "source": [
        "# Load training data\n",
        "import datetime\n",
        "uber_df = spark.read.csv(path=\"*.csv\", header=True)\n",
        "uber_df.cache()\n",
        "uber_df.show()\n",
        "\n",
        "def convertCase(text):\n",
        "  return str(datetime.datetime.strptime(text, '%m/%d/%Y %H:%M:%S')) \n",
        "\n",
        "convertUDF = udf(lambda z: convertCase(z))\n",
        "uber_df = uber_df.withColumn(\"dt\",convertUDF(col(\"Date/Time\")) ).withColumn(\"lat\", col(\"Lat\").cast('Double')).withColumn(\"lon\", col(\"Lon\").cast('Double')).withColumn(\"base\", uber_df[\"Base\"]).select(['dt','lat','lon','base'])\n",
        "uber_df.show()\n",
        "print(uber_df.schema)\n"
      ],
      "execution_count": 44,
      "outputs": [
        {
          "output_type": "stream",
          "text": [
            "+----------------+-------+--------+------+\n",
            "|       Date/Time|    Lat|     Lon|  Base|\n",
            "+----------------+-------+--------+------+\n",
            "|9/1/2014 0:01:00|40.2201|-74.0021|B02512|\n",
            "|9/1/2014 0:01:00|  40.75|-74.0027|B02512|\n",
            "|9/1/2014 0:03:00|40.7559|-73.9864|B02512|\n",
            "|9/1/2014 0:06:00| 40.745|-73.9889|B02512|\n",
            "|9/1/2014 0:11:00|40.8145|-73.9444|B02512|\n",
            "|9/1/2014 0:12:00|40.6735|-73.9918|B02512|\n",
            "|9/1/2014 0:15:00|40.7471|-73.6472|B02512|\n",
            "|9/1/2014 0:16:00|40.6613|-74.2691|B02512|\n",
            "|9/1/2014 0:32:00|40.3745|-73.9999|B02512|\n",
            "|9/1/2014 0:33:00|40.7633|-73.9773|B02512|\n",
            "|9/1/2014 0:33:00|40.7467|-73.6131|B02512|\n",
            "|9/1/2014 0:37:00|40.8105|  -73.96|B02512|\n",
            "|9/1/2014 0:38:00| 40.679|-74.0111|B02512|\n",
            "|9/1/2014 0:39:00|40.4023|-73.9839|B02512|\n",
            "|9/1/2014 0:48:00|40.7378|-74.0395|B02512|\n",
            "|9/1/2014 0:48:00|40.7214|-73.9884|B02512|\n",
            "|9/1/2014 0:49:00|40.8646|-73.9081|B02512|\n",
            "|9/1/2014 1:08:00|40.7398|-74.0061|B02512|\n",
            "|9/1/2014 1:17:00|40.6793|-74.0116|B02512|\n",
            "|9/1/2014 1:19:00|40.7328|-73.9875|B02512|\n",
            "+----------------+-------+--------+------+\n",
            "only showing top 20 rows\n",
            "\n",
            "+-------------------+-------+--------+------+\n",
            "|                 dt|    lat|     lon|  base|\n",
            "+-------------------+-------+--------+------+\n",
            "|2014-09-01 00:01:00|40.2201|-74.0021|B02512|\n",
            "|2014-09-01 00:01:00|  40.75|-74.0027|B02512|\n",
            "|2014-09-01 00:03:00|40.7559|-73.9864|B02512|\n",
            "|2014-09-01 00:06:00| 40.745|-73.9889|B02512|\n",
            "|2014-09-01 00:11:00|40.8145|-73.9444|B02512|\n",
            "|2014-09-01 00:12:00|40.6735|-73.9918|B02512|\n",
            "|2014-09-01 00:15:00|40.7471|-73.6472|B02512|\n",
            "|2014-09-01 00:16:00|40.6613|-74.2691|B02512|\n",
            "|2014-09-01 00:32:00|40.3745|-73.9999|B02512|\n",
            "|2014-09-01 00:33:00|40.7633|-73.9773|B02512|\n",
            "|2014-09-01 00:33:00|40.7467|-73.6131|B02512|\n",
            "|2014-09-01 00:37:00|40.8105|  -73.96|B02512|\n",
            "|2014-09-01 00:38:00| 40.679|-74.0111|B02512|\n",
            "|2014-09-01 00:39:00|40.4023|-73.9839|B02512|\n",
            "|2014-09-01 00:48:00|40.7378|-74.0395|B02512|\n",
            "|2014-09-01 00:48:00|40.7214|-73.9884|B02512|\n",
            "|2014-09-01 00:49:00|40.8646|-73.9081|B02512|\n",
            "|2014-09-01 01:08:00|40.7398|-74.0061|B02512|\n",
            "|2014-09-01 01:17:00|40.6793|-74.0116|B02512|\n",
            "|2014-09-01 01:19:00|40.7328|-73.9875|B02512|\n",
            "+-------------------+-------+--------+------+\n",
            "only showing top 20 rows\n",
            "\n",
            "StructType(List(StructField(dt,StringType,true),StructField(lat,DoubleType,true),StructField(lon,DoubleType,true),StructField(base,StringType,true)))\n"
          ],
          "name": "stdout"
        }
      ]
    },
    {
      "cell_type": "code",
      "metadata": {
        "colab": {
          "base_uri": "https://localhost:8080/"
        },
        "id": "ushFvYKIXV0Q",
        "outputId": "f1e9f89f-8b32-4620-ba1c-529a4a0d9645"
      },
      "source": [
        "uber_df.describe([\"dt\", \"lat\", \"lon\"]).show()"
      ],
      "execution_count": 45,
      "outputs": [
        {
          "output_type": "stream",
          "text": [
            "+-------+-------------------+-------------------+-------------------+\n",
            "|summary|                 dt|                lat|                lon|\n",
            "+-------+-------------------+-------------------+-------------------+\n",
            "|  count|            4534327|            4534327|            4534327|\n",
            "|   mean|               null|  40.73926075400814| -73.97301934563038|\n",
            "| stddev|               null|0.03994991057662093|0.05726669735470254|\n",
            "|    min|2014-04-01 00:00:00|            39.6569|            -74.929|\n",
            "|    max|2014-09-30 22:59:00|            42.1166|           -72.0666|\n",
            "+-------+-------------------+-------------------+-------------------+\n",
            "\n"
          ],
          "name": "stdout"
        }
      ]
    },
    {
      "cell_type": "code",
      "metadata": {
        "id": "sLaQDNnTamiS"
      },
      "source": [
        "feature_columns = ['lat', 'lon']\n"
      ],
      "execution_count": 46,
      "outputs": []
    },
    {
      "cell_type": "code",
      "metadata": {
        "id": "xVTaYslQa9uE"
      },
      "source": [
        "feature_assembler = VectorAssembler(inputCols=feature_columns, outputCol=\"features\")\n"
      ],
      "execution_count": 47,
      "outputs": []
    },
    {
      "cell_type": "code",
      "metadata": {
        "id": "WiHQK0iXa_5g",
        "outputId": "2388e6d5-94ce-4d42-ccd0-32d09a4f2e76",
        "colab": {
          "base_uri": "https://localhost:8080/"
        }
      },
      "source": [
        "uber_assembled_df = feature_assembler.transform(uber_df)\n",
        "uber_assembled_df.cache()"
      ],
      "execution_count": 48,
      "outputs": [
        {
          "output_type": "execute_result",
          "data": {
            "text/plain": [
              "DataFrame[dt: string, lat: double, lon: double, base: string, features: vector]"
            ]
          },
          "metadata": {
            "tags": []
          },
          "execution_count": 48
        }
      ]
    },
    {
      "cell_type": "code",
      "metadata": {
        "id": "xJwpMzCbbCPg",
        "outputId": "a8622ae4-777d-44d4-a531-603efbf23ed7",
        "colab": {
          "base_uri": "https://localhost:8080/"
        }
      },
      "source": [
        "uber_assembled_df.show(10)\n"
      ],
      "execution_count": 50,
      "outputs": [
        {
          "output_type": "stream",
          "text": [
            "+-------------------+-------+--------+------+------------------+\n",
            "|                 dt|    lat|     lon|  base|          features|\n",
            "+-------------------+-------+--------+------+------------------+\n",
            "|2014-09-01 00:01:00|40.2201|-74.0021|B02512|[40.2201,-74.0021]|\n",
            "|2014-09-01 00:01:00|  40.75|-74.0027|B02512|  [40.75,-74.0027]|\n",
            "|2014-09-01 00:03:00|40.7559|-73.9864|B02512|[40.7559,-73.9864]|\n",
            "|2014-09-01 00:06:00| 40.745|-73.9889|B02512| [40.745,-73.9889]|\n",
            "|2014-09-01 00:11:00|40.8145|-73.9444|B02512|[40.8145,-73.9444]|\n",
            "|2014-09-01 00:12:00|40.6735|-73.9918|B02512|[40.6735,-73.9918]|\n",
            "|2014-09-01 00:15:00|40.7471|-73.6472|B02512|[40.7471,-73.6472]|\n",
            "|2014-09-01 00:16:00|40.6613|-74.2691|B02512|[40.6613,-74.2691]|\n",
            "|2014-09-01 00:32:00|40.3745|-73.9999|B02512|[40.3745,-73.9999]|\n",
            "|2014-09-01 00:33:00|40.7633|-73.9773|B02512|[40.7633,-73.9773]|\n",
            "+-------------------+-------+--------+------+------------------+\n",
            "only showing top 10 rows\n",
            "\n"
          ],
          "name": "stdout"
        }
      ]
    },
    {
      "cell_type": "code",
      "metadata": {
        "id": "oGVlueYxbb0e",
        "outputId": "f73dee0e-7e86-499d-b9ec-6c7be6a6c8e9",
        "colab": {
          "base_uri": "https://localhost:8080/"
        }
      },
      "source": [
        "train_df, test_df = uber_assembled_df.randomSplit([0.7, 0.3], seed=rnd_seed)\n",
        "train_df.cache()\n",
        "test_df.cache()\n",
        "\n",
        "uber_df.unpersist()\n",
        "uber_assembled_df.unpersist()"
      ],
      "execution_count": 51,
      "outputs": [
        {
          "output_type": "execute_result",
          "data": {
            "text/plain": [
              "DataFrame[dt: string, lat: double, lon: double, base: string, features: vector]"
            ]
          },
          "metadata": {
            "tags": []
          },
          "execution_count": 51
        }
      ]
    },
    {
      "cell_type": "code",
      "metadata": {
        "id": "REJpLkvpbtre"
      },
      "source": [
        "kmeans = KMeans(k=8, initMode='k-means||', featuresCol='features', predictionCol='cluster', maxIter=10)\n"
      ],
      "execution_count": 52,
      "outputs": []
    },
    {
      "cell_type": "code",
      "metadata": {
        "id": "vGWaIG79burN"
      },
      "source": [
        "kmModel = kmeans.fit(train_df)\n"
      ],
      "execution_count": 53,
      "outputs": []
    },
    {
      "cell_type": "code",
      "metadata": {
        "id": "dIK-kDdgbxf0",
        "outputId": "5b697b3a-95d4-469c-930f-23cac179d21d",
        "colab": {
          "base_uri": "https://localhost:8080/"
        }
      },
      "source": [
        "for center in kmModel.clusterCenters():\n",
        "    print(center)"
      ],
      "execution_count": 54,
      "outputs": [
        {
          "output_type": "stream",
          "text": [
            "[ 40.73136247 -73.99806645]\n",
            "[ 40.65859484 -73.78093055]\n",
            "[ 40.9867636  -73.78442778]\n",
            "[ 40.77591685 -73.47665146]\n",
            "[ 40.68745578 -73.96467787]\n",
            "[ 40.78184735 -73.88087384]\n",
            "[ 40.69794925 -74.20237933]\n",
            "[ 40.76660828 -73.97250738]\n"
          ],
          "name": "stdout"
        }
      ]
    },
    {
      "cell_type": "code",
      "metadata": {
        "id": "FNmSjG-mb0ba",
        "outputId": "eb1b5bf2-0cd7-4206-96d0-a3b3877ac6df",
        "colab": {
          "base_uri": "https://localhost:8080/"
        }
      },
      "source": [
        "test_preds = kmModel.transform(test_df)\n",
        "test_preds.cache()"
      ],
      "execution_count": 55,
      "outputs": [
        {
          "output_type": "execute_result",
          "data": {
            "text/plain": [
              "DataFrame[dt: string, lat: double, lon: double, base: string, features: vector, cluster: int]"
            ]
          },
          "metadata": {
            "tags": []
          },
          "execution_count": 55
        }
      ]
    },
    {
      "cell_type": "code",
      "metadata": {
        "id": "jBpQXZvbcXi6",
        "outputId": "23aafaf0-77fa-4b86-a951-0407ff0a4751",
        "colab": {
          "base_uri": "https://localhost:8080/"
        }
      },
      "source": [
        "test_preds.show(10)\n"
      ],
      "execution_count": 57,
      "outputs": [
        {
          "output_type": "stream",
          "text": [
            "+-------------------+-------+--------+------+------------------+-------+\n",
            "|                 dt|    lat|     lon|  base|          features|cluster|\n",
            "+-------------------+-------+--------+------+------------------+-------+\n",
            "|2014-07-01 00:00:00|40.7473|-73.9932|B02682|[40.7473,-73.9932]|      0|\n",
            "|2014-07-01 00:00:00|40.7588|-73.9723|B02617|[40.7588,-73.9723]|      7|\n",
            "|2014-07-01 00:00:00|40.8282| -73.915|B02682| [40.8282,-73.915]|      5|\n",
            "|2014-07-01 00:04:00|40.7107|-73.8444|B02598|[40.7107,-73.8444]|      5|\n",
            "|2014-07-01 00:04:00|40.7403|-74.0079|B02617|[40.7403,-74.0079]|      0|\n",
            "|2014-07-01 00:06:00| 40.732|-73.9999|B02512| [40.732,-73.9999]|      0|\n",
            "|2014-07-01 00:06:00|40.7455| -73.999|B02682| [40.7455,-73.999]|      0|\n",
            "|2014-07-01 00:06:00|40.7513|-74.0066|B02598|[40.7513,-74.0066]|      0|\n",
            "|2014-07-01 00:07:00| 40.722|-73.9873|B02617| [40.722,-73.9873]|      0|\n",
            "|2014-07-01 00:07:00|40.7408|-74.0053|B02682|[40.7408,-74.0053]|      0|\n",
            "+-------------------+-------+--------+------+------------------+-------+\n",
            "only showing top 10 rows\n",
            "\n"
          ],
          "name": "stdout"
        }
      ]
    },
    {
      "cell_type": "code",
      "metadata": {
        "id": "PAivMNUmcbax",
        "outputId": "5ed3d119-1788-45bf-adcc-618cd30bec39",
        "colab": {
          "base_uri": "https://localhost:8080/"
        }
      },
      "source": [
        "print(kmModel.summary.clusterSizes)"
      ],
      "execution_count": 58,
      "outputs": [
        {
          "output_type": "stream",
          "text": [
            "[1327372, 95657, 8860, 6100, 400155, 146760, 31909, 1157115]\n"
          ],
          "name": "stdout"
        }
      ]
    },
    {
      "cell_type": "code",
      "metadata": {
        "id": "yHG2gxm9ceHf",
        "outputId": "62bb5f0d-030e-4759-cd25-bce955f25c91",
        "colab": {
          "base_uri": "https://localhost:8080/"
        }
      },
      "source": [
        "print(kmModel.computeCost(train_df))\n"
      ],
      "execution_count": 59,
      "outputs": [
        {
          "output_type": "stream",
          "text": [
            "2849.640524601148\n"
          ],
          "name": "stdout"
        }
      ]
    },
    {
      "cell_type": "code",
      "metadata": {
        "id": "ir5-w8jkcgsY"
      },
      "source": [
        "kmModel.write().overwrite().save(\"data/model\")\n"
      ],
      "execution_count": 60,
      "outputs": []
    },
    {
      "cell_type": "code",
      "metadata": {
        "id": "lNb7bCJdcifX"
      },
      "source": [
        "test_preds.createOrReplaceTempView(\"test_preds\")\n"
      ],
      "execution_count": 61,
      "outputs": []
    },
    {
      "cell_type": "code",
      "metadata": {
        "id": "s3BNNcgGck1X"
      },
      "source": [
        "import re\n",
        "\n",
        "def strip_margin(text):\n",
        "    nomargin = re.sub('\\n[ \\t]*\\|', ' ', text)\n",
        "    trimmed = re.sub('\\s+', ' ', nomargin)\n",
        "    return trimmed"
      ],
      "execution_count": 62,
      "outputs": []
    },
    {
      "cell_type": "code",
      "metadata": {
        "id": "gZwtx1iNcmhn",
        "outputId": "77697e2e-1051-4501-b46c-d4fe7074d774",
        "colab": {
          "base_uri": "https://localhost:8080/"
        }
      },
      "source": [
        "sql_result_df = spark.sql(strip_margin(\n",
        "                        \"\"\"SELECT \n",
        "                          |    HOUR(dt) AS hour, \n",
        "                          |    cluster,\n",
        "                          |    COUNT(*) as count\n",
        "                          |FROM test_preds\n",
        "                          |GROUP BY hour, cluster\n",
        "                          |ORDER BY count DESC\n",
        "                        \"\"\"))\n",
        "sql_result_df.cache()"
      ],
      "execution_count": 63,
      "outputs": [
        {
          "output_type": "execute_result",
          "data": {
            "text/plain": [
              "DataFrame[hour: int, cluster: int, count: bigint]"
            ]
          },
          "metadata": {
            "tags": []
          },
          "execution_count": 63
        }
      ]
    },
    {
      "cell_type": "code",
      "metadata": {
        "id": "-CUFH6sZcrEu",
        "outputId": "846bd9b5-135a-4a8d-c74b-a6d07703a3b5",
        "colab": {
          "base_uri": "https://localhost:8080/"
        }
      },
      "source": [
        "sql_result_df.show(10)\n"
      ],
      "execution_count": 64,
      "outputs": [
        {
          "output_type": "stream",
          "text": [
            "+----+-------+-----+\n",
            "|hour|cluster|count|\n",
            "+----+-------+-----+\n",
            "|  17|      0|42833|\n",
            "|  18|      0|41349|\n",
            "|  17|      7|41184|\n",
            "|  16|      0|39000|\n",
            "|  16|      7|38972|\n",
            "|  18|      7|38573|\n",
            "|  21|      0|37358|\n",
            "|  19|      0|37232|\n",
            "|  20|      0|36061|\n",
            "|  22|      0|34637|\n",
            "+----+-------+-----+\n",
            "only showing top 10 rows\n",
            "\n"
          ],
          "name": "stdout"
        }
      ]
    },
    {
      "cell_type": "code",
      "metadata": {
        "id": "sSEK0ngBcwu_",
        "outputId": "3b2152c1-505c-4eeb-e145-a44a64fbb53b",
        "colab": {
          "base_uri": "https://localhost:8080/",
          "height": 278
        }
      },
      "source": [
        "plt.figure(figsize=(18,4))\n",
        "sns.barplot(x=\"hour\", y=\"count\", hue=\"cluster\", data=sql_result_df.toPandas());\n"
      ],
      "execution_count": 67,
      "outputs": [
        {
          "output_type": "display_data",
          "data": {
            "image/png": "[encoded data removed]",
            "text/plain": [
              "<Figure size 1296x288 with 1 Axes>"
            ]
          },
          "metadata": {
            "tags": [],
            "needs_background": "light"
          }
        }
      ]
    },
    {
      "cell_type": "code",
      "metadata": {
        "id": "-TkAxrBLc-6Q",
        "outputId": "444975cb-5a45-4b77-ddcb-b005524543f9",
        "colab": {
          "base_uri": "https://localhost:8080/"
        }
      },
      "source": [
        "sql_result_df.unpersist()"
      ],
      "execution_count": 68,
      "outputs": [
        {
          "output_type": "execute_result",
          "data": {
            "text/plain": [
              "DataFrame[hour: int, cluster: int, count: bigint]"
            ]
          },
          "metadata": {
            "tags": []
          },
          "execution_count": 68
        }
      ]
    },
    {
      "cell_type": "code",
      "metadata": {
        "id": "fddrQgeqdCY8",
        "outputId": "789b62e8-2ec6-4da4-9fe1-6ecc0592098a",
        "colab": {
          "base_uri": "https://localhost:8080/"
        }
      },
      "source": [
        "(test_preds\n",
        "    .select(F.hour(\"dt\").alias(\"hour\"), \"cluster\")\n",
        "    .groupBy([\"hour\", \"cluster\"])\n",
        "    .count()\n",
        "    .orderBy(F.desc(\"count\"))).show(10)"
      ],
      "execution_count": 69,
      "outputs": [
        {
          "output_type": "stream",
          "text": [
            "+----+-------+-----+\n",
            "|hour|cluster|count|\n",
            "+----+-------+-----+\n",
            "|  17|      0|42833|\n",
            "|  18|      0|41349|\n",
            "|  17|      7|41184|\n",
            "|  16|      0|39000|\n",
            "|  16|      7|38972|\n",
            "|  18|      7|38573|\n",
            "|  21|      0|37358|\n",
            "|  19|      0|37232|\n",
            "|  20|      0|36061|\n",
            "|  22|      0|34637|\n",
            "+----+-------+-----+\n",
            "only showing top 10 rows\n",
            "\n"
          ],
          "name": "stdout"
        }
      ]
    },
    {
      "cell_type": "code",
      "metadata": {
        "id": "LQ49xzaodHpf",
        "outputId": "ba640d6c-f73c-454c-8d7f-412b6d8f85e9",
        "colab": {
          "base_uri": "https://localhost:8080/"
        }
      },
      "source": [
        "sql_result_df = spark.sql(strip_margin(\n",
        "                        \"\"\"SELECT cluster, COUNT(cluster) AS count\n",
        "                          |FROM test_preds\n",
        "                          |GROUP BY cluster\n",
        "                          |ORDER BY cluster\n",
        "                        \"\"\"))\n",
        "sql_result_df.cache()"
      ],
      "execution_count": 70,
      "outputs": [
        {
          "output_type": "execute_result",
          "data": {
            "text/plain": [
              "DataFrame[cluster: int, count: bigint]"
            ]
          },
          "metadata": {
            "tags": []
          },
          "execution_count": 70
        }
      ]
    },
    {
      "cell_type": "code",
      "metadata": {
        "id": "P2uvxyFtdJiy",
        "outputId": "f942daec-0eb7-48b2-969a-17a525f0bc13",
        "colab": {
          "base_uri": "https://localhost:8080/"
        }
      },
      "source": [
        "sql_result_df.show(10)"
      ],
      "execution_count": 71,
      "outputs": [
        {
          "output_type": "stream",
          "text": [
            "+-------+------+\n",
            "|cluster| count|\n",
            "+-------+------+\n",
            "|      0|569222|\n",
            "|      1| 41101|\n",
            "|      2|  3726|\n",
            "|      3|  2651|\n",
            "|      4|172518|\n",
            "|      5| 63097|\n",
            "|      6| 13431|\n",
            "|      7|494653|\n",
            "+-------+------+\n",
            "\n"
          ],
          "name": "stdout"
        }
      ]
    },
    {
      "cell_type": "code",
      "metadata": {
        "id": "CKm5KZbndLZd",
        "outputId": "0ed11980-edda-42f6-8312-d729a47db5ca",
        "colab": {
          "base_uri": "https://localhost:8080/",
          "height": 294
        }
      },
      "source": [
        "plt.figure(figsize=(18,4))\n",
        "sns.barplot(x=\"cluster\", y=\"count\", data=sql_result_df.toPandas())\n",
        "plt.title(\"Total Pickups By Cluster\");"
      ],
      "execution_count": 72,
      "outputs": [
        {
          "output_type": "display_data",
          "data": {
            "image/png": "[encoded data removed]",
            "text/plain": [
              "<Figure size 1296x288 with 1 Axes>"
            ]
          },
          "metadata": {
            "tags": [],
            "needs_background": "light"
          }
        }
      ]
    },
    {
      "cell_type": "code",
      "metadata": {
        "id": "khsqVpoxdPw2",
        "outputId": "58d74ff5-10f6-4a4a-80f4-9a4ac1071fca",
        "colab": {
          "base_uri": "https://localhost:8080/"
        }
      },
      "source": [
        "sql_result_df.unpersist()"
      ],
      "execution_count": 73,
      "outputs": [
        {
          "output_type": "execute_result",
          "data": {
            "text/plain": [
              "DataFrame[cluster: int, count: bigint]"
            ]
          },
          "metadata": {
            "tags": []
          },
          "execution_count": 73
        }
      ]
    },
    {
      "cell_type": "code",
      "metadata": {
        "id": "X7EDDLG4dRvL",
        "outputId": "c1596c54-0a8a-47aa-ba2f-bc96c1932884",
        "colab": {
          "base_uri": "https://localhost:8080/"
        }
      },
      "source": [
        "(test_preds\n",
        "    .groupBy(\"cluster\")\n",
        "    .count()\n",
        "    .orderBy(\"cluster\")).show(10)"
      ],
      "execution_count": 74,
      "outputs": [
        {
          "output_type": "stream",
          "text": [
            "+-------+------+\n",
            "|cluster| count|\n",
            "+-------+------+\n",
            "|      0|569222|\n",
            "|      1| 41101|\n",
            "|      2|  3726|\n",
            "|      3|  2651|\n",
            "|      4|172518|\n",
            "|      5| 63097|\n",
            "|      6| 13431|\n",
            "|      7|494653|\n",
            "+-------+------+\n",
            "\n"
          ],
          "name": "stdout"
        }
      ]
    },
    {
      "cell_type": "code",
      "metadata": {
        "id": "hibIKOmwdT3s",
        "outputId": "5d6f95d4-2aed-4c70-d0a1-e3673125207f",
        "colab": {
          "base_uri": "https://localhost:8080/"
        }
      },
      "source": [
        "sql_result_df = spark.sql(strip_margin(\n",
        "                        \"\"\"SELECT \n",
        "                          |    HOUR(dt) AS hour, \n",
        "                          |    COUNT(cluster) AS count\n",
        "                          |FROM test_preds\n",
        "                          |GROUP BY hour\n",
        "                          |ORDER BY hour\n",
        "                        \"\"\"))\n",
        "sql_result_df.cache()"
      ],
      "execution_count": 75,
      "outputs": [
        {
          "output_type": "execute_result",
          "data": {
            "text/plain": [
              "DataFrame[hour: int, count: bigint]"
            ]
          },
          "metadata": {
            "tags": []
          },
          "execution_count": 75
        }
      ]
    },
    {
      "cell_type": "code",
      "metadata": {
        "id": "BgtLYClDdVRI",
        "outputId": "7efce474-0888-4724-a7c0-96e555014b87",
        "colab": {
          "base_uri": "https://localhost:8080/"
        }
      },
      "source": [
        "sql_result_df.show(10)"
      ],
      "execution_count": 76,
      "outputs": [
        {
          "output_type": "stream",
          "text": [
            "+----+-----+\n",
            "|hour|count|\n",
            "+----+-----+\n",
            "|   0|31308|\n",
            "|   1|20219|\n",
            "|   2|13593|\n",
            "|   3|14375|\n",
            "|   4|16597|\n",
            "|   5|25331|\n",
            "|   6|43017|\n",
            "|   7|57878|\n",
            "|   8|57017|\n",
            "|   9|48039|\n",
            "+----+-----+\n",
            "only showing top 10 rows\n",
            "\n"
          ],
          "name": "stdout"
        }
      ]
    },
    {
      "cell_type": "code",
      "metadata": {
        "id": "pFuuaHVndakf",
        "outputId": "ae53495a-41aa-432c-b439-107e56dc0965",
        "colab": {
          "base_uri": "https://localhost:8080/",
          "height": 294
        }
      },
      "source": [
        "plt.figure(figsize=(18,4))\n",
        "sns.barplot(x=\"hour\", y=\"count\", data=sql_result_df.toPandas())\n",
        "plt.title(\"Total Pickups By Hour\");"
      ],
      "execution_count": 77,
      "outputs": [
        {
          "output_type": "display_data",
          "data": {
            "image/png": "[encoded data removed]",
            "text/plain": [
              "<Figure size 1296x288 with 1 Axes>"
            ]
          },
          "metadata": {
            "tags": [],
            "needs_background": "light"
          }
        }
      ]
    },
    {
      "cell_type": "code",
      "metadata": {
        "id": "mOptSHC8deC7",
        "outputId": "383473a5-813d-442d-8e7f-e7da15d4b4cb",
        "colab": {
          "base_uri": "https://localhost:8080/"
        }
      },
      "source": [
        "sql_result_df.unpersist()"
      ],
      "execution_count": 78,
      "outputs": [
        {
          "output_type": "execute_result",
          "data": {
            "text/plain": [
              "DataFrame[hour: int, count: bigint]"
            ]
          },
          "metadata": {
            "tags": []
          },
          "execution_count": 78
        }
      ]
    },
    {
      "cell_type": "code",
      "metadata": {
        "id": "wIs_XZ7cdggf",
        "outputId": "2f6eb579-a544-4d06-ccfe-66111b35f494",
        "colab": {
          "base_uri": "https://localhost:8080/"
        }
      },
      "source": [
        "(test_preds\n",
        "    .select(F.hour(\"dt\").alias(\"hour\"))\n",
        "    .groupBy(\"hour\")\n",
        "    .count()\n",
        "    .orderBy(\"hour\")).show(10)"
      ],
      "execution_count": 79,
      "outputs": [
        {
          "output_type": "stream",
          "text": [
            "+----+-----+\n",
            "|hour|count|\n",
            "+----+-----+\n",
            "|   0|31308|\n",
            "|   1|20219|\n",
            "|   2|13593|\n",
            "|   3|14375|\n",
            "|   4|16597|\n",
            "|   5|25331|\n",
            "|   6|43017|\n",
            "|   7|57878|\n",
            "|   8|57017|\n",
            "|   9|48039|\n",
            "+----+-----+\n",
            "only showing top 10 rows\n",
            "\n"
          ],
          "name": "stdout"
        }
      ]
    }
  ]
}